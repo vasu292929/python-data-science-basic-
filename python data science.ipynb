{
 "cells": [
  {
   "cell_type": "code",
   "execution_count": 1,
   "id": "9ea3400f",
   "metadata": {},
   "outputs": [],
   "source": [
    "#Why to Use Python?\n",
    "#Python can be used for :\n",
    "#1. Programming (for Placements/online contests/DSA)\n",
    "#2. Development (using a backend framework called Django)\n",
    "#3. Machine Learning / Data Science / Artificial Intelligence"
   ]
  },
  {
   "cell_type": "code",
   "execution_count": 2,
   "id": "05ef5b8e",
   "metadata": {},
   "outputs": [
    {
     "name": "stdout",
     "output_type": "stream",
     "text": [
      "['False', 'None', 'True', 'and', 'as', 'assert', 'async', 'await', 'break', 'class', 'continue', 'def', 'del', 'elif', 'else', 'except', 'finally', 'for', 'from', 'global', 'if', 'import', 'in', 'is', 'lambda', 'nonlocal', 'not', 'or', 'pass', 'raise', 'return', 'try', 'while', 'with', 'yield']\n"
     ]
    }
   ],
   "source": [
    "#basic of python\n",
    "# (1)\n",
    "# keywords :- these are the reserve words that can't be use as ordinary identifiers.\n",
    "# to find the the reserved keywords.\n",
    "import keyword\n",
    "print(keyword.kwlist)\n",
    "#total of keywords that are in python is 35"
   ]
  },
  {
   "cell_type": "code",
   "execution_count": 3,
   "id": "a6a1f1a7",
   "metadata": {},
   "outputs": [],
   "source": [
    "#2\n",
    "#immutable :- this means their meaning and defination can't be altered."
   ]
  },
  {
   "cell_type": "code",
   "execution_count": 4,
   "id": "3c6ec52d",
   "metadata": {},
   "outputs": [],
   "source": [
    "#3\n",
    "#CASE SENSITIVE\n",
    "#python is a case sensitive program for eg:-\n",
    "# True is valid keyword but true is not"
   ]
  },
  {
   "cell_type": "code",
   "execution_count": 5,
   "id": "30752280",
   "metadata": {},
   "outputs": [
    {
     "name": "stdout",
     "output_type": "stream",
     "text": [
      "hello world\n"
     ]
    }
   ],
   "source": [
    "#output\n",
    "print('hello world') # print is a function use for output and the '' is use for convert into string (text)."
   ]
  },
  {
   "cell_type": "code",
   "execution_count": 6,
   "id": "bfaa0f22",
   "metadata": {},
   "outputs": [],
   "source": [
    "#Variables\n",
    "#Basic Types in Python - numbers(integers, floating), boolean, strings"
   ]
  },
  {
   "cell_type": "code",
   "execution_count": 7,
   "id": "462ff462",
   "metadata": {},
   "outputs": [
    {
     "name": "stdout",
     "output_type": "stream",
     "text": [
      "vasu bishnoi\n",
      "age\n",
      "22\n"
     ]
    }
   ],
   "source": [
    "#variables :- to store data\n",
    "name = 'vasu bishnoi'# using string\n",
    "age = 22 # using an integer\n",
    "print(name)\n",
    "print('age')#using string in Parentheses(brackets) will give the same outcome.\n",
    "print(age)\n"
   ]
  },
  {
   "cell_type": "code",
   "execution_count": 8,
   "id": "e65f7c7b",
   "metadata": {},
   "outputs": [
    {
     "name": "stdout",
     "output_type": "stream",
     "text": [
      "harsh\n",
      "19.2\n"
     ]
    }
   ],
   "source": [
    "#we can change the variable also\n",
    "name = 'harsh'\n",
    "age =19.2 #using a float\n",
    "print(name)\n",
    "print(age)\n",
    "is_adult = True # don't use true\n",
    "# Booleans consist of True and False"
   ]
  },
  {
   "cell_type": "code",
   "execution_count": 9,
   "id": "dc6e5bfe",
   "metadata": {},
   "outputs": [],
   "source": [
    "# practice - 1\n",
    "# add a person with name aegon stark\n",
    "# aegon's age is 32 years old\n",
    "# aegon is a genius"
   ]
  },
  {
   "cell_type": "code",
   "execution_count": 10,
   "id": "14f0d26d",
   "metadata": {},
   "outputs": [
    {
     "name": "stdout",
     "output_type": "stream",
     "text": [
      "aegon stark\n",
      "32\n",
      "aegon is a genius\n"
     ]
    }
   ],
   "source": [
    "name = 'aegon stark'\n",
    "age = 32\n",
    "print(name)\n",
    "print(age)\n",
    "print('aegon is a genius')\n",
    "aegon_is_genius = True"
   ]
  },
  {
   "cell_type": "code",
   "execution_count": 12,
   "id": "becf929d",
   "metadata": {},
   "outputs": [
    {
     "name": "stdout",
     "output_type": "stream",
     "text": [
      "what is your name ?vasu\n",
      "hello vasu\n"
     ]
    }
   ],
   "source": [
    "#taking input and giving output\n",
    "name = input ('what is your name ?') # storing input in variable name\n",
    "print ('hello ' + name) #concatenation is done(adding hello string with name variable)"
   ]
  },
  {
   "cell_type": "code",
   "execution_count": 13,
   "id": "40b9f3be",
   "metadata": {},
   "outputs": [
    {
     "name": "stdout",
     "output_type": "stream",
     "text": [
      "what is your superhero name ? batman\n",
      "batman\n"
     ]
    }
   ],
   "source": [
    "# practice - 2\n",
    "#aegon is secretly a superhero. Ask him for his superhero name and show it on the terminal\n",
    "superhero = input('what is your superhero name ? ')\n",
    "print(superhero)"
   ]
  },
  {
   "cell_type": "code",
   "execution_count": 14,
   "id": "64b2d9f5",
   "metadata": {},
   "outputs": [
    {
     "name": "stdout",
     "output_type": "stream",
     "text": [
      "enter your old age: 20\n",
      "22\n"
     ]
    }
   ],
   "source": [
    "#type converstion\n",
    "old_age = input('enter your old age: ')\n",
    "new_age = int(old_age) + 2# we converted string into integer by int()function.\n",
    "print(new_age)"
   ]
  },
  {
   "cell_type": "code",
   "execution_count": 15,
   "id": "1d7e9871",
   "metadata": {},
   "outputs": [
    {
     "data": {
      "text/plain": [
       "18.0"
      ]
     },
     "execution_count": 15,
     "metadata": {},
     "output_type": "execute_result"
    }
   ],
   "source": [
    "num = 18\n",
    "float(num)# converting a integer into float"
   ]
  },
  {
   "cell_type": "code",
   "execution_count": 16,
   "id": "b19c7a3f",
   "metadata": {},
   "outputs": [
    {
     "name": "stdout",
     "output_type": "stream",
     "text": [
      "enter 1st number: 25\n",
      "enter 2nd number: 52\n",
      "the sum of the number is: 77\n"
     ]
    }
   ],
   "source": [
    "first_num = int(input('enter 1st number: '))\n",
    "secound_num = int(input('enter 2nd number: '))\n",
    "sum = first_num + secound_num\n",
    "print('the sum of the number is: ' + str(sum))"
   ]
  },
  {
   "cell_type": "code",
   "execution_count": 17,
   "id": "5906dc58",
   "metadata": {},
   "outputs": [
    {
     "name": "stdout",
     "output_type": "stream",
     "text": [
      "AEGON STARK\n",
      "aegon stark\n",
      "Aegon Stark\n"
     ]
    }
   ],
   "source": [
    "name = 'Aegon Stark'\n",
    "print(name.upper()) # to convert string into upper case\n",
    "print(name.lower()) # to convert string into lower case\n",
    "print(name)"
   ]
  },
  {
   "cell_type": "code",
   "execution_count": 18,
   "id": "a996323a",
   "metadata": {},
   "outputs": [
    {
     "name": "stdout",
     "output_type": "stream",
     "text": [
      "6\n"
     ]
    }
   ],
   "source": [
    "print(name.find('S')) # in python index start with 0 for eg:- A=0 and e=1"
   ]
  },
  {
   "cell_type": "code",
   "execution_count": 19,
   "id": "e266033e",
   "metadata": {},
   "outputs": [
    {
     "name": "stdout",
     "output_type": "stream",
     "text": [
      "aegon manny\n"
     ]
    }
   ],
   "source": [
    "name = 'aegon stark'\n",
    "print(name.replace('stark','manny'))# changing the name"
   ]
  },
  {
   "cell_type": "code",
   "execution_count": 20,
   "id": "764f6073",
   "metadata": {},
   "outputs": [
    {
     "name": "stdout",
     "output_type": "stream",
     "text": [
      "True\n",
      "False\n"
     ]
    }
   ],
   "source": [
    "#boolean\n",
    "print('stark' in name)\n",
    "print('tony' in name)"
   ]
  },
  {
   "cell_type": "code",
   "execution_count": 21,
   "id": "ffe6ecf2",
   "metadata": {},
   "outputs": [
    {
     "name": "stdout",
     "output_type": "stream",
     "text": [
      "13\n",
      "7\n",
      "30\n",
      "3.3333333333333335\n",
      "3\n",
      "1\n",
      "1000\n"
     ]
    }
   ],
   "source": [
    "#Arithmetic Operators(+,-,/,//,%)\n",
    "a = 10\n",
    "b = 3\n",
    "#adding\n",
    "add = a + b\n",
    "#substraction\n",
    "sub = a - b\n",
    "#multiplication\n",
    "mult = a * b \n",
    "#division\n",
    "div = a / b\n",
    "#division(without boolen)\n",
    "divi = a // b\n",
    "# remainder\n",
    "rem = a % b\n",
    "# power\n",
    "power = a**b\n",
    "#printing the answer\n",
    "print(add)\n",
    "print(sub)\n",
    "print(mult)\n",
    "print(div)\n",
    "print(divi)\n",
    "print(rem)\n",
    "print(power)"
   ]
  },
  {
   "cell_type": "code",
   "execution_count": 22,
   "id": "a0f19380",
   "metadata": {},
   "outputs": [
    {
     "name": "stdout",
     "output_type": "stream",
     "text": [
      "12\n"
     ]
    }
   ],
   "source": [
    "#shortcut\n",
    "i = 5\n",
    "i = i + 5 # adding without shortcut\n",
    "i +=2 # adding with shortcut\n",
    "print (i)"
   ]
  },
  {
   "cell_type": "code",
   "execution_count": 23,
   "id": "0e3a98d4",
   "metadata": {},
   "outputs": [
    {
     "name": "stdout",
     "output_type": "stream",
     "text": [
      "13\n"
     ]
    }
   ],
   "source": [
    "#Operator Precedence\n",
    "result = 3 + 5 * 2 # 16 or 13 ?\n",
    "print(result)"
   ]
  },
  {
   "cell_type": "code",
   "execution_count": 24,
   "id": "a7ecfb21",
   "metadata": {},
   "outputs": [
    {
     "name": "stdout",
     "output_type": "stream",
     "text": [
      "False\n",
      "True\n",
      "True\n",
      "False\n"
     ]
    }
   ],
   "source": [
    "#Comparison Operators\n",
    "is_greater = 1 > 5\n",
    "is_lesser = 1 < 5\n",
    "# 1 <= 5\n",
    "# 1 >= 5\n",
    "is_not_equal = 1 != 5\n",
    "is_equal = 1 == 5\n",
    "print(is_greater)\n",
    "print(is_lesser)\n",
    "print(is_not_equal)\n",
    "print(is_equal)"
   ]
  },
  {
   "cell_type": "code",
   "execution_count": 25,
   "id": "255d9df5",
   "metadata": {},
   "outputs": [
    {
     "name": "stdout",
     "output_type": "stream",
     "text": [
      "False\n",
      "True\n",
      "True\n"
     ]
    }
   ],
   "source": [
    "#Logical Operators\n",
    "print(2 > 3 or 3 > 4)# or -> (atleast one is true)\n",
    "print(2 > 1 and 2 > 0)# and -> (both are true)\n",
    "print(not 3 > 5)# not -> (reverses any value)"
   ]
  },
  {
   "cell_type": "code",
   "execution_count": 26,
   "id": "2d5bd157",
   "metadata": {},
   "outputs": [
    {
     "name": "stdout",
     "output_type": "stream",
     "text": [
      "you can vote\n",
      "thank you\n"
     ]
    }
   ],
   "source": [
    "#If - else  statements\n",
    "age = 19 # 1st we will use if statement.\n",
    "if age >= 18:\n",
    "  print('you can vote')\n",
    "print('thank you')"
   ]
  },
  {
   "cell_type": "code",
   "execution_count": 27,
   "id": "01f58de2",
   "metadata": {},
   "outputs": [
    {
     "name": "stdout",
     "output_type": "stream",
     "text": [
      "enter your age: 27\n",
      "you can vote\n"
     ]
    }
   ],
   "source": [
    "#now we will add else statement\n",
    "age = int(input('enter your age: '))\n",
    "if age >= 18:\n",
    "  print('you can vote')\n",
    "else:\n",
    "  print('you can not vote')"
   ]
  },
  {
   "cell_type": "code",
   "execution_count": 28,
   "id": "46264ca4",
   "metadata": {},
   "outputs": [
    {
     "name": "stdout",
     "output_type": "stream",
     "text": [
      "enter your age: 16\n",
      "you can not vote\n"
     ]
    }
   ],
   "source": [
    "age = int(input('enter your age: '))\n",
    "if age >= 18:\n",
    "  print('you can vote')\n",
    "elif age <=17:\n",
    "  print('you can not vote')\n",
    "else:\n",
    "  print('please try again')"
   ]
  },
  {
   "cell_type": "code",
   "execution_count": 30,
   "id": "099278bc",
   "metadata": {},
   "outputs": [
    {
     "name": "stdout",
     "output_type": "stream",
     "text": [
      "enter your age: -19\n",
      "you can not vote\n"
     ]
    }
   ],
   "source": [
    "age = int(input('enter your age: '))\n",
    "if age >= 18:\n",
    "  print('you can vote')\n",
    "elif age <=17:\n",
    "  print('you can not vote')\n",
    "else:\n",
    "  print('please try again')\n"
   ]
  },
  {
   "cell_type": "code",
   "execution_count": 31,
   "id": "043dbef3",
   "metadata": {},
   "outputs": [
    {
     "name": "stdout",
     "output_type": "stream",
     "text": [
      "Choose operation (add/sub/multi/divi/rem): sub\n",
      "please enter your 1st number: 43\n",
      "please enter your 2nd number: 31\n",
      "74\n"
     ]
    }
   ],
   "source": [
    "from random import choice\n",
    "# practice - 3\n",
    "#build a Calculator\n",
    "operation = input(\"Choose operation (add/sub/multi/divi/rem): \")\n",
    "num_1 = int(input('please enter your 1st number: '))\n",
    "num_2 = int(input('please enter your 2nd number: '))\n",
    "\n",
    "add = num_1 + num_2\n",
    "sub = num_1 - num_2\n",
    "multi = num_1 * num_2\n",
    "divi = num_1 / num_2\n",
    "rem = num_1 % num_2\n",
    "\n",
    "if add:\n",
    "  print(add)\n",
    "elif sub:\n",
    "  print(sub)\n",
    "elif multi:\n",
    "  print(multi)\n",
    "elif (divi):\n",
    "  print(divi)\n",
    "elif (rem):\n",
    "  print(rem)\n",
    "else:\n",
    "  print('please try again')"
   ]
  },
  {
   "cell_type": "code",
   "execution_count": 32,
   "id": "343c2805",
   "metadata": {},
   "outputs": [
    {
     "name": "stdout",
     "output_type": "stream",
     "text": [
      "Enter first number : 689\n",
      "Enter second number : 51\n",
      "----press keys for operator (+,-,*,/,%)----------\n",
      "Enter operator : /\n",
      "13.509803921568627\n"
     ]
    }
   ],
   "source": [
    "#Or\n",
    "first = input(\"Enter first number : \")\n",
    "second = input(\"Enter second number : \")\n",
    "first = int(first)\n",
    "second = int(second)\n",
    "print(\"----press keys for operator (+,-,*,/,%)----------\")\n",
    "operator = input(\"Enter operator : \")\n",
    "if operator == \"+\":\n",
    "  print(first + second)\n",
    "elif operator == \"-\":\n",
    "  print(first - second)\n",
    "elif operator == \"*\":\n",
    "  print(first * second)\n",
    "elif operator == \"/\":\n",
    "  print(first / second)\n",
    "elif operator == \"%\":\n",
    "  print(first % second)\n",
    "else:\n",
    "  print(\"Invalid Operation\")"
   ]
  },
  {
   "cell_type": "code",
   "execution_count": 33,
   "id": "6ac3ec9f",
   "metadata": {},
   "outputs": [
    {
     "name": "stdout",
     "output_type": "stream",
     "text": [
      "range(0, 5)\n"
     ]
    }
   ],
   "source": [
    "#Range in Python\n",
    "#range() function returns a range object that is a sequence of numbers.\n",
    "numbers = range(5)\n",
    "print(numbers)\n"
   ]
  },
  {
   "cell_type": "code",
   "execution_count": 34,
   "id": "059587d5",
   "metadata": {},
   "outputs": [
    {
     "name": "stdout",
     "output_type": "stream",
     "text": [
      "1\n",
      "2\n",
      "3\n",
      "4\n",
      "5\n"
     ]
    }
   ],
   "source": [
    "#loop (while)\n",
    "i = 1\n",
    "while i <= 5:\n",
    " print(i)\n",
    " i = i+1"
   ]
  },
  {
   "cell_type": "code",
   "execution_count": 35,
   "id": "c3d12e61",
   "metadata": {},
   "outputs": [
    {
     "name": "stdout",
     "output_type": "stream",
     "text": [
      "2\n",
      "4\n",
      "6\n",
      "8\n",
      "10\n",
      "12\n",
      "14\n",
      "16\n",
      "18\n",
      "20\n"
     ]
    }
   ],
   "source": [
    "# we can also prints tables\n",
    "i = 2\n",
    "while i <= 20:\n",
    "  print(i)\n",
    "  i = i + 2"
   ]
  },
  {
   "cell_type": "code",
   "execution_count": 36,
   "id": "7c32b272",
   "metadata": {},
   "outputs": [
    {
     "name": "stdout",
     "output_type": "stream",
     "text": [
      "9\n",
      "18\n",
      "27\n",
      "36\n",
      "45\n",
      "54\n",
      "63\n",
      "72\n",
      "81\n",
      "90\n"
     ]
    }
   ],
   "source": [
    "i = 9\n",
    "while i<=90:\n",
    "  print(i)\n",
    "  i = i + 9"
   ]
  },
  {
   "cell_type": "code",
   "execution_count": 37,
   "id": "f4b95fc6",
   "metadata": {},
   "outputs": [
    {
     "name": "stdout",
     "output_type": "stream",
     "text": [
      "*\n",
      "**\n",
      "***\n",
      "****\n"
     ]
    }
   ],
   "source": [
    "#forming structure\n",
    "i = 1\n",
    "while i <= 4:\n",
    "  print(i * '*')\n",
    "  i = i + 1"
   ]
  },
  {
   "cell_type": "code",
   "execution_count": 38,
   "id": "61d66e3a",
   "metadata": {},
   "outputs": [
    {
     "name": "stdout",
     "output_type": "stream",
     "text": [
      "*****\n",
      "****\n",
      "***\n",
      "**\n",
      "*\n"
     ]
    }
   ],
   "source": [
    "i = 5\n",
    "while i >=1:\n",
    "  print(i * '*')\n",
    "  i = i - 1"
   ]
  },
  {
   "cell_type": "code",
   "execution_count": 39,
   "id": "f3812556",
   "metadata": {},
   "outputs": [
    {
     "name": "stdout",
     "output_type": "stream",
     "text": [
      "heloo\n",
      "helooheloo\n",
      "heloohelooheloo\n",
      "helooheloohelooheloo\n",
      "heloohelooheloohelooheloo\n"
     ]
    }
   ],
   "source": [
    "i = 1\n",
    "while i <=5:\n",
    "  print(i * 'heloo')\n",
    "  i = i + 1"
   ]
  },
  {
   "cell_type": "code",
   "execution_count": 40,
   "id": "25168336",
   "metadata": {},
   "outputs": [
    {
     "name": "stdout",
     "output_type": "stream",
     "text": [
      "0\n",
      "1\n",
      "2\n",
      "3\n",
      "4\n"
     ]
    }
   ],
   "source": [
    "# range loop\n",
    "for i in range (5):\n",
    "  print(i)"
   ]
  },
  {
   "cell_type": "code",
   "execution_count": 41,
   "id": "34bcd2c4",
   "metadata": {},
   "outputs": [
    {
     "name": "stdout",
     "output_type": "stream",
     "text": [
      "1\n",
      "2\n",
      "3\n",
      "4\n",
      "5\n",
      "6\n",
      "7\n",
      "8\n",
      "9\n",
      "10\n",
      "11\n"
     ]
    }
   ],
   "source": [
    "for i in range (11):\n",
    "  print(i + 1)"
   ]
  },
  {
   "cell_type": "code",
   "execution_count": 42,
   "id": "434ebb72",
   "metadata": {},
   "outputs": [
    {
     "name": "stdout",
     "output_type": "stream",
     "text": [
      "[23, 45, 56]\n"
     ]
    }
   ],
   "source": [
    "# list [] square brackets are use for list.\n",
    "marks = [23 , 45 , 56]\n",
    "print(marks)"
   ]
  },
  {
   "cell_type": "code",
   "execution_count": 43,
   "id": "84291ab2",
   "metadata": {},
   "outputs": [
    {
     "name": "stdout",
     "output_type": "stream",
     "text": [
      "['harsh', 'vasu', 'jyoti']\n"
     ]
    }
   ],
   "source": [
    "names = [ 'harsh','vasu','jyoti']\n",
    "print(names)"
   ]
  },
  {
   "cell_type": "code",
   "execution_count": 44,
   "id": "7d3327ec",
   "metadata": {},
   "outputs": [
    {
     "name": "stdout",
     "output_type": "stream",
     "text": [
      "['harsh', 'vasu']\n"
     ]
    }
   ],
   "source": [
    "print(names[0:2])"
   ]
  },
  {
   "cell_type": "code",
   "execution_count": 45,
   "id": "c1119c7f",
   "metadata": {},
   "outputs": [
    {
     "name": "stdout",
     "output_type": "stream",
     "text": [
      "jyoti\n"
     ]
    }
   ],
   "source": [
    "print(names[-1])"
   ]
  },
  {
   "cell_type": "code",
   "execution_count": 46,
   "id": "ab541c3e",
   "metadata": {},
   "outputs": [
    {
     "name": "stdout",
     "output_type": "stream",
     "text": [
      "23\n",
      "45\n",
      "56\n"
     ]
    }
   ],
   "source": [
    "#for loop\n",
    "for i in marks:\n",
    "  print(i)\n"
   ]
  },
  {
   "cell_type": "code",
   "execution_count": 47,
   "id": "5686aed5",
   "metadata": {},
   "outputs": [
    {
     "name": "stdout",
     "output_type": "stream",
     "text": [
      "[23, 45, 56, 99]\n"
     ]
    }
   ],
   "source": [
    "#append (adding new data)\n",
    "marks.append(99)\n",
    "print(marks)"
   ]
  },
  {
   "cell_type": "code",
   "execution_count": 48,
   "id": "c814729b",
   "metadata": {},
   "outputs": [
    {
     "name": "stdout",
     "output_type": "stream",
     "text": [
      "[47, 23, 45, 56, 99]\n"
     ]
    }
   ],
   "source": [
    "# insert()\n",
    "marks.insert(0,47)\n",
    "print(marks)"
   ]
  },
  {
   "cell_type": "code",
   "execution_count": 49,
   "id": "3f5d3783",
   "metadata": {},
   "outputs": [
    {
     "name": "stdout",
     "output_type": "stream",
     "text": [
      "[47, 23, 45, 56]\n"
     ]
    }
   ],
   "source": [
    "#Using remove() method:\n",
    "marks.remove(99)\n",
    "print(marks)"
   ]
  },
  {
   "cell_type": "code",
   "execution_count": 50,
   "id": "d414211d",
   "metadata": {},
   "outputs": [
    {
     "name": "stdout",
     "output_type": "stream",
     "text": [
      "[47, 45, 56]\n"
     ]
    }
   ],
   "source": [
    "# using pop() method:\n",
    "marks.pop(1)\n",
    "print(marks)"
   ]
  },
  {
   "cell_type": "code",
   "execution_count": 51,
   "id": "84efa978",
   "metadata": {},
   "outputs": [
    {
     "name": "stdout",
     "output_type": "stream",
     "text": [
      "True\n",
      "False\n"
     ]
    }
   ],
   "source": [
    "# to find out any number that is present in your list\n",
    "print(45 in marks)\n",
    "print(99 in marks)"
   ]
  },
  {
   "cell_type": "code",
   "execution_count": 52,
   "id": "e1d7f0a7",
   "metadata": {},
   "outputs": [
    {
     "name": "stdout",
     "output_type": "stream",
     "text": [
      "3\n"
     ]
    }
   ],
   "source": [
    "#to find out the lenght of the data\n",
    "print(len(marks))"
   ]
  },
  {
   "cell_type": "code",
   "execution_count": 53,
   "id": "0bd14611",
   "metadata": {},
   "outputs": [
    {
     "name": "stdout",
     "output_type": "stream",
     "text": [
      "47\n",
      "45\n",
      "56\n"
     ]
    }
   ],
   "source": [
    "# while loop on data with help of len\n",
    "marks\n",
    "i =0\n",
    "while i <len(marks):\n",
    "  print(marks[i])\n",
    "  i =i +1"
   ]
  },
  {
   "cell_type": "code",
   "execution_count": 54,
   "id": "b7d9c405",
   "metadata": {},
   "outputs": [],
   "source": [
    "# to clear the list\n",
    "marks.clear()"
   ]
  },
  {
   "cell_type": "code",
   "execution_count": 55,
   "id": "67bd6ae8",
   "metadata": {},
   "outputs": [
    {
     "data": {
      "text/plain": [
       "[]"
      ]
     },
     "execution_count": 55,
     "metadata": {},
     "output_type": "execute_result"
    }
   ],
   "source": [
    "marks # marks list is now empty"
   ]
  },
  {
   "cell_type": "code",
   "execution_count": 56,
   "id": "ef42b52d",
   "metadata": {},
   "outputs": [],
   "source": [
    "names.append('damru')"
   ]
  },
  {
   "cell_type": "code",
   "execution_count": 57,
   "id": "93c869ab",
   "metadata": {},
   "outputs": [],
   "source": [
    "names.insert(0,'ratha')"
   ]
  },
  {
   "cell_type": "code",
   "execution_count": 58,
   "id": "038e1365",
   "metadata": {},
   "outputs": [
    {
     "data": {
      "text/plain": [
       "['ratha', 'harsh', 'vasu', 'jyoti', 'damru']"
      ]
     },
     "execution_count": 58,
     "metadata": {},
     "output_type": "execute_result"
    }
   ],
   "source": [
    "names"
   ]
  },
  {
   "cell_type": "code",
   "execution_count": 59,
   "id": "aed127cb",
   "metadata": {},
   "outputs": [
    {
     "name": "stdout",
     "output_type": "stream",
     "text": [
      "ratha\n",
      "harsh\n",
      "vasu\n"
     ]
    }
   ],
   "source": [
    "#Break & Continue\n",
    "for name in names:\n",
    "  if name == 'jyoti':\n",
    "    break;\n",
    "  print(name)"
   ]
  },
  {
   "cell_type": "code",
   "execution_count": 60,
   "id": "20d75956",
   "metadata": {},
   "outputs": [
    {
     "name": "stdout",
     "output_type": "stream",
     "text": [
      "ratha\n",
      "harsh\n",
      "jyoti\n",
      "damru\n"
     ]
    }
   ],
   "source": [
    "for name in names:\n",
    "  if name == 'vasu':\n",
    "    continue;\n",
    "  print(name)"
   ]
  },
  {
   "cell_type": "code",
   "execution_count": 61,
   "id": "783bb373",
   "metadata": {},
   "outputs": [],
   "source": [
    "#Tuples\n",
    "#They are like lists (sequence of objects) but they are immutable i.e. once they have been\n",
    "#defined we cannot change them.\n",
    "#Parenthesis in tuples are optional."
   ]
  },
  {
   "cell_type": "code",
   "execution_count": 62,
   "id": "60386f74",
   "metadata": {},
   "outputs": [],
   "source": [
    "age =(34 , 18 , 10 , 10 , 10 ,24)"
   ]
  },
  {
   "cell_type": "code",
   "execution_count": 63,
   "id": "9a410e05",
   "metadata": {},
   "outputs": [
    {
     "ename": "AttributeError",
     "evalue": "'tuple' object has no attribute 'append'",
     "output_type": "error",
     "traceback": [
      "\u001b[1;31m---------------------------------------------------------------------------\u001b[0m",
      "\u001b[1;31mAttributeError\u001b[0m                            Traceback (most recent call last)",
      "Cell \u001b[1;32mIn[63], line 1\u001b[0m\n\u001b[1;32m----> 1\u001b[0m age\u001b[38;5;241m.\u001b[39mappend(\u001b[38;5;241m72\u001b[39m)\n",
      "\u001b[1;31mAttributeError\u001b[0m: 'tuple' object has no attribute 'append'"
     ]
    }
   ],
   "source": [
    "age.append(72) # hence tuples are immutable in nature"
   ]
  },
  {
   "cell_type": "code",
   "execution_count": 66,
   "id": "92d2bee5",
   "metadata": {},
   "outputs": [
    {
     "name": "stdout",
     "output_type": "stream",
     "text": [
      "3\n",
      "5\n",
      "2\n"
     ]
    }
   ],
   "source": [
    "# we can perform 2 operation on tuples\n",
    "print(age.count(10)) # we can find that how many time a number is repeat\n",
    "print(age.index(24)) # we can also find the index of data\n",
    "print(age.index(10)) #when a number is repeated it's take the index when the number is 1st time appeared"
   ]
  },
  {
   "cell_type": "code",
   "execution_count": null,
   "id": "76ab9acf",
   "metadata": {},
   "outputs": [],
   "source": [
    "#Sets\n",
    "#Sets are a collection of all unique elements.\n",
    "#Indexing is not supported in sets"
   ]
  },
  {
   "cell_type": "code",
   "execution_count": 67,
   "id": "94532d74",
   "metadata": {},
   "outputs": [],
   "source": [
    "weight = {70 , 80 , 85 , 80 , 79}"
   ]
  },
  {
   "cell_type": "code",
   "execution_count": 68,
   "id": "89d8ec49",
   "metadata": {},
   "outputs": [
    {
     "name": "stdout",
     "output_type": "stream",
     "text": [
      "{80, 85, 70, 79}\n"
     ]
    }
   ],
   "source": [
    "print(weight) # sets only show unique data"
   ]
  },
  {
   "cell_type": "code",
   "execution_count": 69,
   "id": "b258fb5c",
   "metadata": {},
   "outputs": [
    {
     "ename": "AttributeError",
     "evalue": "'set' object has no attribute 'index'",
     "output_type": "error",
     "traceback": [
      "\u001b[1;31m---------------------------------------------------------------------------\u001b[0m",
      "\u001b[1;31mAttributeError\u001b[0m                            Traceback (most recent call last)",
      "Cell \u001b[1;32mIn[69], line 1\u001b[0m\n\u001b[1;32m----> 1\u001b[0m \u001b[38;5;28mprint\u001b[39m(weight\u001b[38;5;241m.\u001b[39mindex(\u001b[38;5;241m1\u001b[39m))\n",
      "\u001b[1;31mAttributeError\u001b[0m: 'set' object has no attribute 'index'"
     ]
    }
   ],
   "source": [
    "print(weight.index(1)) # sets don't shows index"
   ]
  },
  {
   "cell_type": "code",
   "execution_count": 70,
   "id": "e27d8d11",
   "metadata": {},
   "outputs": [
    {
     "name": "stdout",
     "output_type": "stream",
     "text": [
      "80\n",
      "85\n",
      "70\n",
      "79\n"
     ]
    }
   ],
   "source": [
    "# for loop on sets\n",
    "for i in weight:\n",
    "  print(i)"
   ]
  },
  {
   "cell_type": "code",
   "execution_count": 71,
   "id": "69d13252",
   "metadata": {},
   "outputs": [
    {
     "ename": "TypeError",
     "evalue": "'set' object is not subscriptable",
     "output_type": "error",
     "traceback": [
      "\u001b[1;31m---------------------------------------------------------------------------\u001b[0m",
      "\u001b[1;31mTypeError\u001b[0m                                 Traceback (most recent call last)",
      "Cell \u001b[1;32mIn[71], line 4\u001b[0m\n\u001b[0;32m      2\u001b[0m i \u001b[38;5;241m=\u001b[39m \u001b[38;5;241m0\u001b[39m\n\u001b[0;32m      3\u001b[0m \u001b[38;5;28;01mwhile\u001b[39;00m i\u001b[38;5;241m<\u001b[39m\u001b[38;5;241m=\u001b[39m\u001b[38;5;28mlen\u001b[39m(weight):\n\u001b[1;32m----> 4\u001b[0m   \u001b[38;5;28mprint\u001b[39m(weight[\u001b[38;5;241m1\u001b[39m])\n\u001b[0;32m      5\u001b[0m   i \u001b[38;5;241m=\u001b[39m i \u001b[38;5;241m+\u001b[39m\u001b[38;5;241m1\u001b[39m\n",
      "\u001b[1;31mTypeError\u001b[0m: 'set' object is not subscriptable"
     ]
    }
   ],
   "source": [
    "# while loop on sets , we directly can't use while loop on sets.\n",
    "i = 0\n",
    "while i<=len(weight):\n",
    "  print(weight[1])\n",
    "  i = i +1"
   ]
  },
  {
   "cell_type": "code",
   "execution_count": 72,
   "id": "4057eb3d",
   "metadata": {},
   "outputs": [
    {
     "name": "stdout",
     "output_type": "stream",
     "text": [
      "80\n",
      "85\n",
      "70\n",
      "79\n"
     ]
    }
   ],
   "source": [
    "# first we have convert set into list the we can use while loop\n",
    "weight_list = list(weight)\n",
    "weight_list\n",
    "i = 0\n",
    "while i < len(weight_list):\n",
    "  print(weight_list[i])\n",
    "  i+=1"
   ]
  },
  {
   "cell_type": "code",
   "execution_count": 73,
   "id": "1befbe85",
   "metadata": {},
   "outputs": [
    {
     "name": "stdout",
     "output_type": "stream",
     "text": [
      "{'maths': 79, 'science': 88, 'hindi': 67}\n",
      "79\n"
     ]
    }
   ],
   "source": [
    "#Dictionary\n",
    "#Dictionary is an unordered collection of Items. Dictionary stores a (key, value) pair.\n",
    "marks = {'maths' : 79, 'science' : 88, 'hindi' : 67}\n",
    "print(marks)\n",
    "print(marks['maths'])"
   ]
  },
  {
   "cell_type": "code",
   "execution_count": 74,
   "id": "02ea2ce0",
   "metadata": {},
   "outputs": [
    {
     "name": "stdout",
     "output_type": "stream",
     "text": [
      "{'maths': 79, 'science': 88, 'hindi': 67, 'biology': 78}\n"
     ]
    }
   ],
   "source": [
    "# adding new data to dictionary\n",
    "marks['biology'] = 78\n",
    "print(marks)"
   ]
  },
  {
   "cell_type": "code",
   "execution_count": 75,
   "id": "852b4902",
   "metadata": {},
   "outputs": [
    {
     "name": "stdout",
     "output_type": "stream",
     "text": [
      "{'maths': 79, 'science': 88, 'hindi': 90, 'biology': 78}\n"
     ]
    }
   ],
   "source": [
    "#changing marks of the subject\n",
    "marks['hindi'] = 90\n",
    "print(marks)"
   ]
  },
  {
   "cell_type": "code",
   "execution_count": null,
   "id": "518b9bbe",
   "metadata": {},
   "outputs": [],
   "source": [
    "#Functions in Python\n",
    "#Function is a piece of code that performs some task. (In a tv remote, each button\n",
    "#performs a functions, so a function is like that button in code)\n",
    "#There are 3 types of functions in Java :\n",
    "#a. In-built functions\n",
    "# int() str() float() min() range() max()\n",
    "#b. Module functions\n",
    "#Module is a file that contains some functions & variables which can be imported\n",
    "#for use in other files.\n",
    "#Each module should contain some related tasks\n",
    "#Example : math, random, string"
   ]
  }
 ],
 "metadata": {
  "kernelspec": {
   "display_name": "Python 3 (ipykernel)",
   "language": "python",
   "name": "python3"
  },
  "language_info": {
   "codemirror_mode": {
    "name": "ipython",
    "version": 3
   },
   "file_extension": ".py",
   "mimetype": "text/x-python",
   "name": "python",
   "nbconvert_exporter": "python",
   "pygments_lexer": "ipython3",
   "version": "3.11.5"
  }
 },
 "nbformat": 4,
 "nbformat_minor": 5
}
