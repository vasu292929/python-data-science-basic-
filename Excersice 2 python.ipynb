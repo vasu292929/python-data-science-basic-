{
 "cells": [
  {
   "cell_type": "markdown",
   "id": "24cfa4d1",
   "metadata": {},
   "source": [
    "# Excersice 2: Good Morning Sir\n",
    "# Create a python program capable of greeting you with Good Morning, Good Afternoon and Good Evening. Your program should use time module to get the current hour. Here is a sample program and documentation link for you:"
   ]
  },
  {
   "cell_type": "code",
   "execution_count": 9,
   "id": "b2c99253",
   "metadata": {},
   "outputs": [
    {
     "name": "stdout",
     "output_type": "stream",
     "text": [
      "good night sir\n"
     ]
    }
   ],
   "source": [
    "import time\n",
    "t = time.strftime('%H:%M:%S')\n",
    "hour = int(time.strftime('%H'))\n",
    "\n",
    "if (hour>=0 and hour<12):\n",
    "    print('good morning sir')\n",
    "elif (hour >= 12 and hour<17):\n",
    "    print('good after sir')\n",
    "else:\n",
    "    print('good night sir')"
   ]
  },
  {
   "cell_type": "code",
   "execution_count": 12,
   "id": "e0a9bcce",
   "metadata": {},
   "outputs": [
    {
     "name": "stdout",
     "output_type": "stream",
     "text": [
      "Enter hour: 5\n",
      "5\n",
      "Good Morning Sir!\n"
     ]
    }
   ],
   "source": [
    "#or other way to conduct \n",
    "import time\n",
    "t = time.strftime('%H:%M:%S') \n",
    "hour = int(time.strftime('%H'))\n",
    "hour = int(input(\"Enter hour: \"))\n",
    "print(hour)\n",
    "\n",
    "if(hour>=0 and hour<12):\n",
    "  print(\"Good Morning Sir!\")\n",
    "elif(hour>=12 and hour<17):\n",
    "  print(\"Good Afternoon Sir!\")\n",
    "elif(hour>=17 and hour<0):\n",
    "  print(\"Good Night Sir!\")"
   ]
  },
  {
   "cell_type": "code",
   "execution_count": null,
   "id": "1d1682de",
   "metadata": {},
   "outputs": [],
   "source": []
  }
 ],
 "metadata": {
  "kernelspec": {
   "display_name": "Python 3 (ipykernel)",
   "language": "python",
   "name": "python3"
  },
  "language_info": {
   "codemirror_mode": {
    "name": "ipython",
    "version": 3
   },
   "file_extension": ".py",
   "mimetype": "text/x-python",
   "name": "python",
   "nbconvert_exporter": "python",
   "pygments_lexer": "ipython3",
   "version": "3.11.5"
  }
 },
 "nbformat": 4,
 "nbformat_minor": 5
}
