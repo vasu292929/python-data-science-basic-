{
 "cells": [
  {
   "cell_type": "markdown",
   "id": "e51fb049",
   "metadata": {},
   "source": [
    "# building a calculator \n",
    "#exercise -1 python data science"
   ]
  },
  {
   "cell_type": "code",
   "execution_count": null,
   "id": "31e2f53d",
   "metadata": {},
   "outputs": [],
   "source": [
    "#add = addition[+]\n",
    "#sub = substraction[-]\n",
    "#multi = multiplication[*]\n",
    "#div = division[/]\n",
    "#divi = division(without float)[//]\n",
    "#rem = remainder(to find out the remainder)[%]\n",
    "#power = power[**]"
   ]
  },
  {
   "cell_type": "code",
   "execution_count": 4,
   "id": "44549a9c",
   "metadata": {},
   "outputs": [
    {
     "name": "stdout",
     "output_type": "stream",
     "text": [
      "choose the operator (add / sub / multi / div / divi / rem / powers):rem\n",
      "enter your 1st number : 99\n",
      "enter your 2nd number : 2\n",
      "answer is 1\n"
     ]
    }
   ],
   "source": [
    "operator = input('choose the operator (add / sub / multi / div / divi / rem / powers):')\n",
    "\n",
    "num_1 = int(input('enter your 1st number : '))  # mking numbers variable\n",
    "num_2 = int(input('enter your 2nd number : '))\n",
    "\n",
    "if operator == 'add':   #using if else statement to make a calculator\n",
    "    result = num_1 + num_2\n",
    "\n",
    "elif operator == 'sub':\n",
    "    result = num_1 - num_2\n",
    "    \n",
    "elif operator == 'multi':\n",
    "    result = num_1 * num_2\n",
    "    \n",
    "elif operator == 'div':\n",
    "    result = num_1 / num_2\n",
    "    \n",
    "elif operator == 'divi':\n",
    "    result = num_1 // num_2\n",
    "    \n",
    "elif operator == 'rem':\n",
    "    result = num_1 % num_2\n",
    "    \n",
    "elif operator == 'race':\n",
    "    result = num_1 ** num_2\n",
    "    \n",
    "else:\n",
    "    print('error please try again')\n",
    "print('answer is ' + str(result))    \n",
    "\n",
    "\n"
   ]
  },
  {
   "cell_type": "code",
   "execution_count": 5,
   "id": "9bbad61c",
   "metadata": {},
   "outputs": [
    {
     "name": "stdout",
     "output_type": "stream",
     "text": [
      "enter your number: 2\n",
      "enter your number: 5\n",
      "----press keys to choose the operator (+ , - , * , / , // , % , **)----\n",
      "enter your operator : **\n",
      "32\n"
     ]
    }
   ],
   "source": [
    "first = int(input('enter your number: '))\n",
    "secound = int(input('enter your number: '))\n",
    "\n",
    "print('----press keys to choose the operator (+ , - , * , / , // , % , **)----')\n",
    "operator = input('enter your operator : ')\n",
    "\n",
    "if operator == '+':\n",
    "    print(first + secound)\n",
    "elif operator == '-':\n",
    "    print(first - secound)\n",
    "elif operator == '*':\n",
    "    print(first * secound)\n",
    "elif operator == '/':\n",
    "    print(first / secound)\n",
    "elif operator == '//':\n",
    "    print(first // secound)\n",
    "elif operator == '%':\n",
    "    print(first % secound)\n",
    "elif operator == '**':\n",
    "    print(first ** secound)\n",
    "else:\n",
    "    print('invalid operator')"
   ]
  }
 ],
 "metadata": {
  "kernelspec": {
   "display_name": "Python 3 (ipykernel)",
   "language": "python",
   "name": "python3"
  },
  "language_info": {
   "codemirror_mode": {
    "name": "ipython",
    "version": 3
   },
   "file_extension": ".py",
   "mimetype": "text/x-python",
   "name": "python",
   "nbconvert_exporter": "python",
   "pygments_lexer": "ipython3",
   "version": "3.11.5"
  }
 },
 "nbformat": 4,
 "nbformat_minor": 5
}
